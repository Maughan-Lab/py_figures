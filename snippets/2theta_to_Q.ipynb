{
 "cells": [
  {
   "cell_type": "code",
   "execution_count": 1,
   "id": "e9beac07",
   "metadata": {},
   "outputs": [],
   "source": [
    "import numpy as np"
   ]
  },
  {
   "cell_type": "code",
   "execution_count": 2,
   "id": "035983fc",
   "metadata": {},
   "outputs": [],
   "source": [
    "# converts from twotheta to Q\n",
    "# parameters:\n",
    "#    twotheta -- list of 2theta values\n",
    "#    wavelength -- wavelength of instrument used to collect data\n",
    "def tt_to_q(twotheta, wavelength):\n",
    "    Q = 4 * np.pi * np.sin((twotheta * np.pi)/360) / wavelength\n",
    "    return Q"
   ]
  },
  {
   "cell_type": "code",
   "execution_count": 3,
   "id": "c62c5818",
   "metadata": {},
   "outputs": [],
   "source": [
    "# converts from Q to twotheta\n",
    "# parameters:\n",
    "#    q -- list of Q values\n",
    "#    wavelength -- wavelength of instrument used to collect data\n",
    "def q_to_tt(q, wavelength):\n",
    "    twotheta = 360 * np.pi * np.arcsin((q * wavelength) / (4 * np.pi))\n",
    "    return twotheta"
   ]
  },
  {
   "cell_type": "code",
   "execution_count": 4,
   "id": "b4ff5e4c",
   "metadata": {},
   "outputs": [],
   "source": [
    "# some common instrument wavelengths\n",
    "\n",
    "# copper source XRD, most laboratory instruments use this wavelength\n",
    "copper_wl = 1.54\n",
    "\n",
    "# synchrotron instruments can have some variance in wavelength so double check your metadata!\n",
    "\n",
    "# 11-BM\n",
    "wl1_11_BM = 0.458957\n",
    "wl2_11_BM = 0.459744\n",
    "\n",
    "# 11-ID-B\n",
    "wl_11_ID_B = 0.14320\n",
    "\n",
    "#17-BM\n",
    "wl_17_BM_B = 0.24107"
   ]
  },
  {
   "cell_type": "code",
   "execution_count": null,
   "id": "60e8f606",
   "metadata": {},
   "outputs": [],
   "source": []
  }
 ],
 "metadata": {
  "kernelspec": {
   "display_name": "Python 3 (ipykernel)",
   "language": "python",
   "name": "python3"
  },
  "language_info": {
   "codemirror_mode": {
    "name": "ipython",
    "version": 3
   },
   "file_extension": ".py",
   "mimetype": "text/x-python",
   "name": "python",
   "nbconvert_exporter": "python",
   "pygments_lexer": "ipython3",
   "version": "3.10.9"
  }
 },
 "nbformat": 4,
 "nbformat_minor": 5
}
